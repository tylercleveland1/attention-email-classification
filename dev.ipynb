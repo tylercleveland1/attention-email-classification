{
 "cells": [
  {
   "cell_type": "code",
   "execution_count": 89,
   "metadata": {},
   "outputs": [],
   "source": [
    "#https://stackoverflow.com/questions/51235118/how-to-get-word-vectors-from-keras-embedding-layer\n",
    "\n",
    "import tensorflow as tf\n",
    "import keras\n",
    "from keras_preprocessing import sequence\n",
    "import numpy as np\n",
    "from sklearn.model_selection import train_test_split\n",
    "from sklearn.preprocessing import OneHotEncoder, normalize\n",
    "\n",
    "from spam_dataset import SpamDataset\n",
    "from layers import *"
   ]
  },
  {
   "cell_type": "code",
   "execution_count": 2,
   "metadata": {},
   "outputs": [],
   "source": [
    "def pad_numpify_input(X):\n",
    "    interm = sequence.pad_sequences(X, maxlen=max_len, truncating='post', padding='post', value=0)\n",
    "    return np.array([np.array(i).astype('float32') for i in interm])\n",
    "\n",
    "def one_hot_decode(Y):\n",
    "    Y = np.array(Y)\n",
    "    Y = np.eye(Y.shape[1])[Y.argmax(1)]\n",
    "    print(Y)\n",
    "    return np.array([\"Yes\" if y[1] == 1 else \"No\" for y in Y])"
   ]
  },
  {
   "cell_type": "code",
   "execution_count": 21,
   "metadata": {},
   "outputs": [],
   "source": [
    "n_words = 10000\n",
    "max_len = 50 #only take top 50 words\n",
    "\n",
    "embed_dim = 32\n",
    "num_heads = 1\n",
    "\n",
    "tokenizer = keras.preprocessing.text.Tokenizer(num_words=n_words, split=' ')\n",
    "\n",
    "X, _y = SpamDataset.get_data()\n",
    "\n",
    "# binary encode\n",
    "one_hot_encoder = OneHotEncoder(sparse=False)\n",
    "_y = np.array(_y).reshape(len(_y), 1)\n",
    "y = one_hot_encoder.fit_transform(_y)\n",
    "\n",
    "#tokenize\n",
    "tokenizer.fit_on_texts(X)\n",
    "X = tokenizer.texts_to_sequences(X)\n",
    "\n",
    "#pad sequences\n",
    "X = pad_numpify_input(X)\n",
    "y = np.array(y).astype('float32')\n",
    "\n",
    "X_train, X_test, y_train, y_test = train_test_split(X, y)"
   ]
  },
  {
   "cell_type": "code",
   "execution_count": 22,
   "metadata": {},
   "outputs": [
    {
     "name": "stdout",
     "output_type": "stream",
     "text": [
      "(4296, 50)\n",
      "(4296, 2)\n",
      "(1432, 50)\n",
      "(1432, 2)\n"
     ]
    }
   ],
   "source": [
    "print(X_train.shape)\n",
    "print(y_train.shape)\n",
    "print(X_test.shape)\n",
    "print(y_test.shape)"
   ]
  },
  {
   "cell_type": "code",
   "execution_count": 59,
   "metadata": {},
   "outputs": [
    {
     "name": "stdout",
     "output_type": "stream",
     "text": [
      "Model: \"functional_39\"\n",
      "_________________________________________________________________\n",
      "Layer (type)                 Output Shape              Param #   \n",
      "=================================================================\n",
      "input_5 (InputLayer)         [(None, 50)]              0         \n",
      "_________________________________________________________________\n",
      "embedding_7 (Embedding)      (None, 50, 32)            320000    \n",
      "_________________________________________________________________\n",
      "self_attention_4 (SelfAttent (None, 50, 32)            3168      \n",
      "_________________________________________________________________\n",
      "global_average_pooling1d_4 ( (None, 32)                0         \n",
      "_________________________________________________________________\n",
      "dense_24 (Dense)             (None, 2)                 66        \n",
      "=================================================================\n",
      "Total params: 323,234\n",
      "Trainable params: 323,234\n",
      "Non-trainable params: 0\n",
      "_________________________________________________________________\n",
      "Epoch 1/4\n",
      "135/135 [==============================] - 1s 11ms/step - loss: 0.4222 - accuracy: 0.8096\n",
      "Epoch 2/4\n",
      "135/135 [==============================] - 2s 16ms/step - loss: 0.0624 - accuracy: 0.9791\n",
      "Epoch 3/4\n",
      "135/135 [==============================] - 3s 20ms/step - loss: 0.0181 - accuracy: 0.9960\n",
      "Epoch 4/4\n",
      "135/135 [==============================] - 3s 19ms/step - loss: 0.0074 - accuracy: 0.9984\n",
      "45/45 [==============================] - 0s 4ms/step - loss: 0.0410 - accuracy: 0.9839\n"
     ]
    },
    {
     "data": {
      "text/plain": [
       "[0.04098685458302498, 0.9839385747909546]"
      ]
     },
     "execution_count": 59,
     "metadata": {},
     "output_type": "execute_result"
    }
   ],
   "source": [
    "l_input = layers.Input(shape=(max_len,))\n",
    "embedding_layer = layers.Embedding(input_dim=n_words, output_dim=embed_dim)\n",
    "l_embedding = embedding_layer(l_input)\n",
    "\n",
    "l_sa = SelfAttention(embed_dim)(l_embedding)\n",
    "l_pool = layers.GlobalAveragePooling1D()(l_sa)\n",
    "l_output = layers.Dense(2, activation=\"softmax\")(l_pool)\n",
    "\n",
    "model = keras.Model(inputs=l_input, outputs=l_output)\n",
    "model.compile(\"adam\", \"categorical_crossentropy\", metrics=[\"accuracy\"])\n",
    "model.summary()\n",
    "\n",
    "model.fit(X_train, y_train, epochs=4)\n",
    "\n",
    "model.evaluate(X_test, y_test)"
   ]
  },
  {
   "cell_type": "code",
   "execution_count": 62,
   "metadata": {},
   "outputs": [
    {
     "name": "stdout",
     "output_type": "stream",
     "text": [
      "WARNING:tensorflow:11 out of the last 11 calls to <function Model.make_predict_function.<locals>.predict_function at 0x00000233403D8DC8> triggered tf.function retracing. Tracing is expensive and the excessive number of tracings could be due to (1) creating @tf.function repeatedly in a loop, (2) passing tensors with different shapes, (3) passing Python objects instead of tensors. For (1), please define your @tf.function outside of the loop. For (2), @tf.function has experimental_relax_shapes=True option that relaxes argument shapes that can avoid unnecessary retracing. For (3), please refer to https://www.tensorflow.org/tutorials/customization/performance#python_or_tensor_args and https://www.tensorflow.org/api_docs/python/tf/function for  more details.\n",
      "WARNING:tensorflow:11 out of the last 11 calls to <function Model.make_predict_function.<locals>.predict_function at 0x000002333EF55AF8> triggered tf.function retracing. Tracing is expensive and the excessive number of tracings could be due to (1) creating @tf.function repeatedly in a loop, (2) passing tensors with different shapes, (3) passing Python objects instead of tensors. For (1), please define your @tf.function outside of the loop. For (2), @tf.function has experimental_relax_shapes=True option that relaxes argument shapes that can avoid unnecessary retracing. For (3), please refer to https://www.tensorflow.org/tutorials/customization/performance#python_or_tensor_args and https://www.tensorflow.org/api_docs/python/tf/function for  more details.\n"
     ]
    }
   ],
   "source": [
    "### DEVELOPMENT AREA ###\n",
    "\n",
    "#create test inputs\n",
    "x_pred = tokenizer.texts_to_sequences([\n",
    "    \"Hi john, this is tyler. I am emailing you to talk about the amount of ideas I have for\"\n",
    "    , \"Nigerian prince, this is callum the devil calling to come and kill you (over the phone)\"\n",
    "]);\n",
    "x_pred = sequence.pad_sequences(x_pred, maxlen=max_len, truncating='post', padding='post', value=0)\n",
    "\n",
    "#define intermediate model (model that does input -> embedding)\n",
    "model_emb = keras.Model(inputs=l_input, outputs=l_embedding)\n",
    "model_satt = keras.Model(inputs=l_input, outputs=l_sa)\n",
    "\n",
    "x_pred_embedding = model_emb.predict(x_pred)\n",
    "x_pred_satt = model_satt.predict(x_pred)"
   ]
  },
  {
   "cell_type": "code",
   "execution_count": 68,
   "metadata": {},
   "outputs": [],
   "source": [
    "def reverse_token_emb(X):\n",
    "    global embedding_layer\n",
    "\n",
    "    X = np.array(X)\n",
    "    lookup_dict = {}\n",
    "    \n",
    "    token_emb_weights = embedding_layer.get_weights()[0]\n",
    "    texts = []\n",
    "    for word in X:\n",
    "        text_word_idxs = []\n",
    "        for embed_vec in word:\n",
    "            tuple_embed_vec = tuple(embed_vec)\n",
    "            \n",
    "            #if lookup dict contains embedded vector use it\n",
    "            if lookup_dict.get(tuple_embed_vec, None) != None:\n",
    "                text_word_idxs.append(lookup_dict[tuple_embed_vec])\n",
    "            #else search for embedding and cache it\n",
    "            else:\n",
    "                for idx in range(token_emb_weights.shape[0]):\n",
    "                    if np.array_equal(embed_vec, token_emb_weights[idx]):\n",
    "                        lookup_dict[tuple_embed_vec] = idx\n",
    "                        text_word_idxs.append(idx)\n",
    "                    \n",
    "        texts.append(text_word_idxs)\n",
    "    \n",
    "    return np.array(texts)\n",
    "\n",
    "# print(tokenizer.sequences_to_texts(reverse_token_emb(out_pred)))"
   ]
  },
  {
   "cell_type": "code",
   "execution_count": null,
   "metadata": {},
   "outputs": [],
   "source": [
    "att_layer_values = np.array(model_satt(X_test))\n",
    "emb_layer_values = np.array(model_emb(X_test))\n",
    "att_scores = att_layer_values - emb_layer_values\n",
    "\n",
    "#sum per token\n",
    "att_scores_per_token = np.array([np.average(arr, axis=1) for arr in att_scores])\n",
    "#normalize over rows (sklearn.preprocessing.normalize)\n",
    "att_scores_per_token = normalize(att_scores_per_token)\n",
    "\n",
    "tokens = reverse_token_emb(emb_layer_values)\n",
    "\n",
    "reverse_word_index = {y:x for x,y in tokenizer.word_index.items()}\n",
    "\n",
    "token_att_scores = []\n",
    "#len(tokens) == len(att_scores_per_token)\n",
    "for i in range(len(tokens)):\n",
    "    #zip the att scores and tokens together for each word\n",
    "    token_att_scores.append(\n",
    "        np.array(\n",
    "            list(zip(tokens[i], att_scores_per_token[i]))\n",
    "        )\n",
    "    )\n",
    "token_att_scores = np.array(token_att_scores)\n",
    "\n",
    "print(token_att_scores.shape)\n",
    "word_list = []\n",
    "for item in token_att_scores:\n",
    "    for pair in item:\n",
    "        if (reverse_word_index.get(pair[0], None) != None):\n",
    "            word_list.append((reverse_word_index[pair[0]], pair[1]))\n",
    "# word_list.sort()\n",
    "print(sorted(word_list, key=lambda x: x[1], reverse=True))"
   ]
  },
  {
   "cell_type": "code",
   "execution_count": null,
   "metadata": {},
   "outputs": [],
   "source": []
  }
 ],
 "metadata": {
  "kernelspec": {
   "display_name": "Python 3",
   "language": "python",
   "name": "python3"
  },
  "language_info": {
   "codemirror_mode": {
    "name": "ipython",
    "version": 3
   },
   "file_extension": ".py",
   "mimetype": "text/x-python",
   "name": "python",
   "nbconvert_exporter": "python",
   "pygments_lexer": "ipython3",
   "version": "3.7.4"
  }
 },
 "nbformat": 4,
 "nbformat_minor": 4
}
