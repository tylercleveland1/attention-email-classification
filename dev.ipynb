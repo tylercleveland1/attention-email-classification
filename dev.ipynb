{
 "cells": [
  {
   "cell_type": "code",
   "execution_count": 20,
   "metadata": {},
   "outputs": [],
   "source": [
    "#https://stackoverflow.com/questions/51235118/how-to-get-word-vectors-from-keras-embedding-layer\n",
    "\n",
    "import tensorflow as tf\n",
    "import keras\n",
    "from keras_preprocessing import sequence\n",
    "import numpy as np\n",
    "from sklearn.model_selection import train_test_split\n",
    "from sklearn.preprocessing import OneHotEncoder\n",
    "\n",
    "from spam_dataset import SpamDataset\n",
    "from layers import *"
   ]
  },
  {
   "cell_type": "code",
   "execution_count": 2,
   "metadata": {},
   "outputs": [],
   "source": [
    "def pad_numpify_input(X):\n",
    "    interm = sequence.pad_sequences(X, maxlen=max_len, truncating='post', padding='post', value=0)\n",
    "    return np.array([np.array(i).astype('float32') for i in interm])\n",
    "\n",
    "def one_hot_decode(Y):\n",
    "    Y = np.array(Y)\n",
    "    Y = np.eye(Y.shape[1])[Y.argmax(1)]\n",
    "    print(Y)\n",
    "    return np.array([\"Yes\" if y[1] == 1 else \"No\" for y in Y])"
   ]
  },
  {
   "cell_type": "code",
   "execution_count": 21,
   "metadata": {},
   "outputs": [],
   "source": [
    "n_words = 10000\n",
    "max_len = 50 #only take top 50 words\n",
    "\n",
    "embed_dim = 32\n",
    "num_heads = 1\n",
    "\n",
    "tokenizer = keras.preprocessing.text.Tokenizer(num_words=n_words, split=' ')\n",
    "\n",
    "X, _y = SpamDataset.get_data()\n",
    "\n",
    "# binary encode\n",
    "one_hot_encoder = OneHotEncoder(sparse=False)\n",
    "_y = np.array(_y).reshape(len(_y), 1)\n",
    "y = one_hot_encoder.fit_transform(_y)\n",
    "\n",
    "#tokenize\n",
    "tokenizer.fit_on_texts(X)\n",
    "X = tokenizer.texts_to_sequences(X)\n",
    "\n",
    "#pad sequences\n",
    "X = pad_numpify_input(X)\n",
    "y = np.array(y).astype('float32')\n",
    "\n",
    "X_train, X_test, y_train, y_test = train_test_split(X, y)"
   ]
  },
  {
   "cell_type": "code",
   "execution_count": 22,
   "metadata": {},
   "outputs": [
    {
     "name": "stdout",
     "output_type": "stream",
     "text": [
      "(4296, 50)\n",
      "(4296, 2)\n",
      "(1432, 50)\n",
      "(1432, 2)\n"
     ]
    }
   ],
   "source": [
    "print(X_train.shape)\n",
    "print(y_train.shape)\n",
    "print(X_test.shape)\n",
    "print(y_test.shape)"
   ]
  },
  {
   "cell_type": "code",
   "execution_count": 24,
   "metadata": {},
   "outputs": [
    {
     "name": "stdout",
     "output_type": "stream",
     "text": [
      "Model: \"functional_27\"\n",
      "_________________________________________________________________\n",
      "Layer (type)                 Output Shape              Param #   \n",
      "=================================================================\n",
      "input_4 (InputLayer)         [(None, 50)]              0         \n",
      "_________________________________________________________________\n",
      "embedding_6 (Embedding)      (None, 50, 32)            320000    \n",
      "_________________________________________________________________\n",
      "self_attention_3 (SelfAttent (None, 50, 32)            3168      \n",
      "_________________________________________________________________\n",
      "global_average_pooling1d_3 ( (None, 32)                0         \n",
      "_________________________________________________________________\n",
      "dense_19 (Dense)             (None, 2)                 66        \n",
      "=================================================================\n",
      "Total params: 323,234\n",
      "Trainable params: 323,234\n",
      "Non-trainable params: 0\n",
      "_________________________________________________________________\n",
      "Epoch 1/4\n",
      "135/135 [==============================] - 2s 14ms/step - loss: 0.4101 - accuracy: 0.8098 0s - loss: 0.4685 \n",
      "Epoch 2/4\n",
      "135/135 [==============================] - 3s 20ms/step - loss: 0.0628 - accuracy: 0.9809\n",
      "Epoch 3/4\n",
      "135/135 [==============================] - 2s 15ms/step - loss: 0.0180 - accuracy: 0.9958\n",
      "Epoch 4/4\n",
      "135/135 [==============================] - 3s 20ms/step - loss: 0.0074 - accuracy: 0.9984\n",
      "45/45 [==============================] - 0s 5ms/step - loss: 0.0407 - accuracy: 0.9839\n"
     ]
    },
    {
     "data": {
      "text/plain": [
       "[0.04066591337323189, 0.9839385747909546]"
      ]
     },
     "execution_count": 24,
     "metadata": {},
     "output_type": "execute_result"
    }
   ],
   "source": [
    "l_input = layers.Input(shape=(max_len,))\n",
    "embedding_layer = layers.Embedding(input_dim=n_words, output_dim=embed_dim)\n",
    "l_embedding = embedding_layer(l_input)\n",
    "\n",
    "l_mha = SelfAttention(embed_dim)(l_embedding)\n",
    "l_pool = layers.GlobalAveragePooling1D()(l_mha)\n",
    "l_output = layers.Dense(2, activation=\"softmax\")(l_pool)\n",
    "\n",
    "model = keras.Model(inputs=l_input, outputs=l_output)\n",
    "model.compile(\"adam\", \"categorical_crossentropy\", metrics=[\"accuracy\"])\n",
    "model.summary()\n",
    "\n",
    "model.fit(X_train, y_train, epochs=4)\n",
    "\n",
    "model.evaluate(X_test, y_test)"
   ]
  },
  {
   "cell_type": "code",
   "execution_count": 25,
   "metadata": {},
   "outputs": [
    {
     "name": "stdout",
     "output_type": "stream",
     "text": [
      "WARNING:tensorflow:5 out of the last 144 calls to <function Model.make_predict_function.<locals>.predict_function at 0x0000023340915828> triggered tf.function retracing. Tracing is expensive and the excessive number of tracings could be due to (1) creating @tf.function repeatedly in a loop, (2) passing tensors with different shapes, (3) passing Python objects instead of tensors. For (1), please define your @tf.function outside of the loop. For (2), @tf.function has experimental_relax_shapes=True option that relaxes argument shapes that can avoid unnecessary retracing. For (3), please refer to https://www.tensorflow.org/tutorials/customization/performance#python_or_tensor_args and https://www.tensorflow.org/api_docs/python/tf/function for  more details.\n",
      "(1, 50, 32)\n"
     ]
    }
   ],
   "source": [
    "### DEVELOPMENT AREA ###\n",
    "\n",
    "#define intermediate model (model that does input -> embedding)\n",
    "model_emb = keras.Model(inputs=l_input, outputs=l_embedding)\n",
    "\n",
    "#test inputs\n",
    "x_pred = tokenizer.texts_to_sequences([\"Hi john, this is tyler. I am emailing you to talk about the amount of ideas I have for\"]);\n",
    "x_pred = sequence.pad_sequences(x_pred, maxlen=max_len, truncating='post', padding='post', value=0)\n",
    "\n",
    "out_pred = model_emb.predict(x_pred)\n",
    "print(\n",
    "    out_pred.shape\n",
    ")"
   ]
  },
  {
   "cell_type": "code",
   "execution_count": 19,
   "metadata": {},
   "outputs": [
    {
     "name": "stdout",
     "output_type": "stream",
     "text": [
      "[[-0.03690045  0.01559929  0.02776337 ... -0.01968681 -0.01474567\n",
      "   0.0296577 ]\n",
      " [ 0.04355304  0.02628536 -0.01919303 ... -0.08933982  0.03083475\n",
      "   0.10062259]\n",
      " [ 0.06479541  0.02936449 -0.05001809 ... -0.04095309  0.01373926\n",
      "  -0.0189221 ]\n",
      " ...\n",
      " [ 0.0024655   0.0108035   0.03648119 ...  0.01778117 -0.0332409\n",
      "   0.04605789]\n",
      " [-0.00102471 -0.01526888  0.0136312  ...  0.0252532  -0.02494303\n",
      "  -0.04669187]\n",
      " [ 0.00992849 -0.01687845 -0.01907049 ...  0.02761716 -0.01135495\n",
      "  -0.02291597]]\n"
     ]
    }
   ],
   "source": [
    "token_emb_weights = embedding_layer.token_emb.get_weights()[0]\n",
    "\n",
    "print(token_emb_weights)"
   ]
  },
  {
   "cell_type": "code",
   "execution_count": null,
   "metadata": {},
   "outputs": [],
   "source": []
  }
 ],
 "metadata": {
  "kernelspec": {
   "display_name": "Python 3",
   "language": "python",
   "name": "python3"
  },
  "language_info": {
   "codemirror_mode": {
    "name": "ipython",
    "version": 3
   },
   "file_extension": ".py",
   "mimetype": "text/x-python",
   "name": "python",
   "nbconvert_exporter": "python",
   "pygments_lexer": "ipython3",
   "version": "3.7.4"
  }
 },
 "nbformat": 4,
 "nbformat_minor": 4
}
