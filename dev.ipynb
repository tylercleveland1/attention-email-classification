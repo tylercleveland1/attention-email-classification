{
 "cells": [
  {
   "cell_type": "code",
   "execution_count": 1,
   "metadata": {},
   "outputs": [],
   "source": [
    "#https://stackoverflow.com/questions/51235118/how-to-get-word-vectors-from-keras-embedding-layer\n",
    "\n",
    "import tensorflow as tf\n",
    "import keras\n",
    "from keras_preprocessing import sequence\n",
    "import numpy as np\n",
    "from sklearn.model_selection import train_test_split\n",
    "from sklearn.preprocessing import OneHotEncoder\n",
    "\n",
    "from spam_dataset import SpamDataset\n",
    "from layers import *"
   ]
  },
  {
   "cell_type": "code",
   "execution_count": 2,
   "metadata": {},
   "outputs": [],
   "source": [
    "def pad_numpify_input(X):\n",
    "    interm = sequence.pad_sequences(X, maxlen=max_len, truncating='post', padding='post', value=0)\n",
    "    return np.array([np.array(i).astype('float32') for i in interm])\n",
    "\n",
    "def one_hot_decode(Y):\n",
    "    Y = np.array(Y)\n",
    "    Y = np.eye(Y.shape[1])[Y.argmax(1)]\n",
    "    print(Y)\n",
    "    return np.array([\"Yes\" if y[1] == 1 else \"No\" for y in Y])"
   ]
  },
  {
   "cell_type": "code",
   "execution_count": 3,
   "metadata": {},
   "outputs": [],
   "source": [
    "n_words = 10000\n",
    "max_len = 50 #only take top 50 words\n",
    "\n",
    "embed_dim = 32\n",
    "num_heads = 1\n",
    "\n",
    "tokenizer = keras.preprocessing.text.Tokenizer(num_words=n_words, split=' ')\n",
    "\n",
    "X, _y = SpamDataset.get_data()\n",
    "\n",
    "# binary encode\n",
    "one_hot_encoder = OneHotEncoder(sparse=False)\n",
    "_y = np.array(_y).reshape(len(_y), 1)\n",
    "y = one_hot_encoder.fit_transform(_y)\n",
    "\n",
    "#tokenize\n",
    "tokenizer.fit_on_texts(X)\n",
    "X = tokenizer.texts_to_sequences(X)\n",
    "\n",
    "#pad sequences\n",
    "X = pad_numpify_input(X)\n",
    "y = np.array(y).astype('float32')\n",
    "\n",
    "X_train, X_test, y_train, y_test = train_test_split(X, y)"
   ]
  },
  {
   "cell_type": "code",
   "execution_count": 4,
   "metadata": {},
   "outputs": [
    {
     "name": "stdout",
     "output_type": "stream",
     "text": [
      "(4296, 50)\n",
      "(4296, 2)\n",
      "(1432, 50)\n",
      "(1432, 2)\n"
     ]
    }
   ],
   "source": [
    "print(X_train.shape)\n",
    "print(y_train.shape)\n",
    "print(X_test.shape)\n",
    "print(y_test.shape)"
   ]
  },
  {
   "cell_type": "code",
   "execution_count": 5,
   "metadata": {},
   "outputs": [
    {
     "name": "stdout",
     "output_type": "stream",
     "text": [
      "Model: \"functional_1\"\n",
      "_________________________________________________________________\n",
      "Layer (type)                 Output Shape              Param #   \n",
      "=================================================================\n",
      "input_1 (InputLayer)         [(None, 50)]              0         \n",
      "_________________________________________________________________\n",
      "token_and_position_embedding (None, 50, 32)            321600    \n",
      "_________________________________________________________________\n",
      "self_attention (SelfAttentio (None, 50, 32)            3168      \n",
      "_________________________________________________________________\n",
      "global_average_pooling1d (Gl (None, 32)                0         \n",
      "_________________________________________________________________\n",
      "dense_4 (Dense)              (None, 2)                 66        \n",
      "=================================================================\n",
      "Total params: 324,834\n",
      "Trainable params: 324,834\n",
      "Non-trainable params: 0\n",
      "_________________________________________________________________\n",
      "Epoch 1/4\n",
      "135/135 [==============================] - 2s 13ms/step - loss: 0.4532 - accuracy: 0.7882\n",
      "Epoch 2/4\n",
      "135/135 [==============================] - 2s 18ms/step - loss: 0.0794 - accuracy: 0.9756\n",
      "Epoch 3/4\n",
      "135/135 [==============================] - 2s 15ms/step - loss: 0.0205 - accuracy: 0.9949\n",
      "Epoch 4/4\n",
      "135/135 [==============================] - 2s 14ms/step - loss: 0.0082 - accuracy: 0.9984\n",
      "45/45 [==============================] - 0s 3ms/step - loss: 0.0423 - accuracy: 0.9853\n"
     ]
    },
    {
     "data": {
      "text/plain": [
       "[0.042269740253686905, 0.9853351712226868]"
      ]
     },
     "execution_count": 5,
     "metadata": {},
     "output_type": "execute_result"
    }
   ],
   "source": [
    "l_input = layers.Input(shape=(max_len,))\n",
    "l_embedding = TokenAndPositionEmbedding(max_len, n_words, embed_dim)(l_input)\n",
    "\n",
    "l_mha = SelfAttention(embed_dim)(l_embedding)\n",
    "l_pool = layers.GlobalAveragePooling1D()(l_mha)\n",
    "l_output = layers.Dense(2, activation=\"softmax\")(l_pool)\n",
    "\n",
    "model = keras.Model(inputs=l_input, outputs=l_output)\n",
    "model.compile(\"adam\", \"categorical_crossentropy\", metrics=[\"accuracy\"])\n",
    "model.summary()\n",
    "\n",
    "model.fit(X_train, y_train, epochs=4)\n",
    "\n",
    "model.evaluate(X_test, y_test)"
   ]
  },
  {
   "cell_type": "code",
   "execution_count": 10,
   "metadata": {},
   "outputs": [
    {
     "name": "stdout",
     "output_type": "stream",
     "text": [
      "[[1. 0.]]\n",
      "['No']\n"
     ]
    }
   ],
   "source": [
    "### DEVELOPMENT AREA ###\n",
    "\n",
    "#define intermediate model (model that does input -> embedding)\n",
    "model_emb = keras.Model(inputs=l_input, outputs=l_embedding)\n",
    "\n",
    "#test inputs\n",
    "x_pred = tokenizer.texts_to_sequences([\"Hi john, this is tyler. I am emailing you to talk about the amount of ideas I have for\"]);\n",
    "x_pred = sequence.pad_sequences(x_pred, maxlen=max_len, truncating='post', padding='post', value=0)\n",
    "\n",
    "# out_pred = model.predict(np.array([x_pred]))\n",
    "out_pred = model.predict(X_train[0:1])\n",
    "print(\n",
    "    one_hot_decode(out_pred)\n",
    ")\n",
    "print(\n",
    "    tokenizer.sequences_\n",
    ")"
   ]
  },
  {
   "cell_type": "code",
   "execution_count": null,
   "metadata": {},
   "outputs": [],
   "source": []
  }
 ],
 "metadata": {
  "kernelspec": {
   "display_name": "Python 3",
   "language": "python",
   "name": "python3"
  },
  "language_info": {
   "codemirror_mode": {
    "name": "ipython",
    "version": 3
   },
   "file_extension": ".py",
   "mimetype": "text/x-python",
   "name": "python",
   "nbconvert_exporter": "python",
   "pygments_lexer": "ipython3",
   "version": "3.7.4"
  }
 },
 "nbformat": 4,
 "nbformat_minor": 4
}
